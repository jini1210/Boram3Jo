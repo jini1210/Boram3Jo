{
 "cells": [
  {
   "cell_type": "markdown",
   "id": "24833adc",
   "metadata": {},
   "source": [
    "# Spark SQL 을 이용하여 mysql 데이터베이스에 데이터 저장하기"
   ]
  },
  {
   "cell_type": "markdown",
   "id": "2802f7b3",
   "metadata": {},
   "source": [
    "### 필요한 라이브러리 임포트"
   ]
  },
  {
   "cell_type": "code",
   "execution_count": 1,
   "id": "6a377b4b",
   "metadata": {},
   "outputs": [],
   "source": [
    "from pyspark import SparkConf, SparkContext\n",
    "from pyspark.sql import *\n",
    "from pyspark.sql.functions import col, lit"
   ]
  },
  {
   "cell_type": "markdown",
   "id": "9c0b9aae",
   "metadata": {},
   "source": [
    "### SparkContext, SparkSession 생성\n",
    "### mysql 에 접속하기 위해서 connector 관련 설정을 해줘야 한다.\n",
    "\n",
    "스파크가 JVM 위에서 실행되기 때문에   \n",
    "DB 에 접속할 때 자바의 표준 데이터베이스 접속 기술인 JDBC 를 사용하고   \n",
    "자바를 통해서 mysql 에 접속해야 하기 때문에 JDBC 용 mysql connector 를 추가해 줘야 한다.  "
   ]
  },
  {
   "cell_type": "code",
   "execution_count": 2,
   "id": "77c6bd07",
   "metadata": {},
   "outputs": [],
   "source": [
    "conf = SparkConf() \\\n",
    "    .setMaster('local') \\\n",
    "    .setAppName('sql') \\\n",
    "    .set(\"spark.driver.extraClassPath\",\"jdbc/mysql-connector-java-5.1.44.jar\")\n",
    "sc = SparkContext(conf=conf)\n",
    "spark = SparkSession(sc)"
   ]
  },
  {
   "cell_type": "markdown",
   "id": "f72d484f",
   "metadata": {},
   "source": [
    "### DB 접속정보 설정"
   ]
  },
  {
   "cell_type": "code",
   "execution_count": 17,
   "id": "c6eff0a3",
   "metadata": {},
   "outputs": [],
   "source": [
    "DB_URL = 'jdbc:mysql://'\n",
    "DB_USER = ''\n",
    "DB_PASS = ''"
   ]
  },
  {
   "cell_type": "markdown",
   "id": "c774ea51",
   "metadata": {},
   "source": [
    "### 데이터가 저장되어있는 csv 파일을 DataFrame 으로 읽어들인다."
   ]
  },
  {
   "cell_type": "code",
   "execution_count": 4,
   "id": "ff3f00e7",
   "metadata": {},
   "outputs": [
    {
     "name": "stdout",
     "output_type": "stream",
     "text": [
      "+---+---+---+----+---+---+----+-----------+-----+-----+-----+-----+-----+-----+-----+-----+-----+------+------+------+------+------+------+------+------+------+------+------+-----+-----+-----+-----+-----+-----+-----+-----+-----+------+------+------+------+------+------+------+------+------+------+------+------+------+------+------+------+------+---+---+-----+-----+----+-----+-----+-----+-----+-----+-----+-----+-----+-----+-----+-----+-----+-----+-----+-----+-----+-----+-----+------+-----+-----+-----+-----+-----+-----+-----+-----+-----+------+-----+-----+-----+-----+-----+-----+-----+-----+-----+------+---+----+----+----+----+---+------+------+------+------+------+---+---+------+------+------+------+------+------+------+------+---+---+----+---+-----+-----+-----+-----+---+-----+-----+-----+-----+-----+---+---------+---------+-------+-------+-------+-------+-------+-----+-----+-----+-----+-----+-----+-------+-------+-----+-----+-----+-----+-----+-----+-----+-----+-----+-----+-----+-----+-----+-----+-----+-----+-----+-----+----+-----+-----+-----+-----+-----+-----+-----+-----+-----+------+---+\n",
      "| ID|DM1|DM2| DM3|DM4|KK1| KK2|         WT|Q1A_1|Q1A_2|Q1A_3|Q1A_4|Q1A_5|Q1A_6|Q1A_7|Q1A_8|Q1A_9|Q1A_10|Q1A_11|Q1A_12|Q1A_13|Q1A_14|Q1A_15|Q1A_16|Q1A_17|Q1A_18|Q1A_19|Q1A_20|Q1B_1|Q1B_2|Q1B_3|Q1B_4|Q1B_5|Q1B_6|Q1B_7|Q1B_8|Q1B_9|Q1B_10|Q1B_11|Q1B_12|Q1B_13|Q1B_14|Q1B_15|Q1B_16|Q1B_17|Q1B_18|Q1B_19|Q1B_20|Q1_1A1|Q1_1A2|Q1_1A3|Q1_1B1|Q1_1B2|Q1_1B3|Q2A|Q2B|Q2_1A|Q2_1B|Q2_2|Q3A_1|Q3A_2|Q3A_3|Q3A_4|Q3A_5|Q3A_6|Q3A_7|Q3A_8|Q3A_9|Q3B_1|Q3B_2|Q3B_3|Q3B_4|Q3B_5|Q3B_6|Q3B_7|Q3B_8|Q3B_9|Q3B_10|Q3C_1|Q3C_2|Q3C_3|Q3C_4|Q3C_5|Q3C_6|Q3C_7|Q3C_8|Q3C_9|Q3C_10|Q3D_1|Q3D_2|Q3D_3|Q3D_4|Q3D_5|Q3D_6|Q3D_7|Q3D_8|Q3D_9|Q3D_10| Q4|Q5A1|Q5A2|Q5B1|Q5B2| Q6|Q6_1_1|Q6_1_2|Q6_1_3|Q6_1_4|Q6_1_5| Q7| Q8|Q8_1_1|Q8_1_2|Q8_1_3|Q8_1_4|Q8_1_5|Q8_1_6|Q8_2_1|Q8_2_2|Q9A|Q9B|Q9_1|Q10|Q10_1|Q10_2|Q11_1|Q11_2|Q12|Q12_1|Q13_1|Q13_2|Q13_3|Q13_4|Q14|Q14_1_1_1|Q14_1_1_2|Q14_1_2|Q14_2_1|Q14_2_2|Q14_3_1|Q14_3_2|Q15A1|Q15A2|Q15A3|Q15B1|Q15B2|Q15B3|Q15_1_1|Q15_1_2|Q16_1|Q16_2|Q16_3|Q16_4|Q16_5|Q16_6|Q16_7|Q16_8|Q16_9|Q17_1|Q17_2|Q17_3|Q17_4|Q17_5|Q17_6|Q17_7|Q18_1|Q18_2| Q19|Q20_1|Q20_2|Q20_3|Q20_4|Q20_5|Q20_6|Q20_7|Q20_8|Q20_9|Q20_10|Q21|\n",
      "+---+---+---+----+---+---+----+-----------+-----+-----+-----+-----+-----+-----+-----+-----+-----+------+------+------+------+------+------+------+------+------+------+------+-----+-----+-----+-----+-----+-----+-----+-----+-----+------+------+------+------+------+------+------+------+------+------+------+------+------+------+------+------+------+---+---+-----+-----+----+-----+-----+-----+-----+-----+-----+-----+-----+-----+-----+-----+-----+-----+-----+-----+-----+-----+-----+------+-----+-----+-----+-----+-----+-----+-----+-----+-----+------+-----+-----+-----+-----+-----+-----+-----+-----+-----+------+---+----+----+----+----+---+------+------+------+------+------+---+---+------+------+------+------+------+------+------+------+---+---+----+---+-----+-----+-----+-----+---+-----+-----+-----+-----+-----+---+---------+---------+-------+-------+-------+-------+-------+-----+-----+-----+-----+-----+-----+-------+-------+-----+-----+-----+-----+-----+-----+-----+-----+-----+-----+-----+-----+-----+-----+-----+-----+-----+-----+----+-----+-----+-----+-----+-----+-----+-----+-----+-----+------+---+\n",
      "|  1|  3|  1|null|  1|  3|null|1581.361297|    1|    1|    1|    1|    1|    0|    0|    1|    0|     1|     0|     0|     1|     1|     1|     0|     1|     0|     1|     1|    4|    5|    5|    5|    4| null| null|    3| null|     5|  null|  null|     4|     5|     3|  null|     4|  null|     5|     2|     4|     2|    17|     8|     3|    19|  9|  3|   70|   30|   2| null| null| null| null| null| null| null| null| null| null| null| null| null| null| null| null| null| null|  null|    2|    3|    3|    3|    2|    1|    2|    2|    3|     2| null| null| null| null| null| null| null| null| null|  null|  3|null|null|null|null|  1|     1|     3|  null|  null|  null|  3|  1|     1|     2|  null|  null|  null|  null|     5|     9|  1|  2|null|  1|    3|    1|    3|    3|  3|    1|    3|    5|    4|    1|  2|     null|     null|   null|      3|      1|   null|   null|    7|    3|    1|    7|    5|    2|   null|   null|    3|    3|    2|    3|    3|    2|    3|    2|    3|    3|    2|    3|    3|    2|    3|    3| null| null|null|    3|    3|    3|    2|    3|    3|    2|    3|    3|     3|  4|\n",
      "|  2|  3|  2|null|  1|  3|null|1506.828478|    1|    1|    1|    1|    1|    0|    0|    1|    1|     0|     0|     0|     1|     1|     1|     0|     1|     1|     1|     1|    4|    3|    5|    3|    4| null| null|    4|    4|  null|  null|  null|     4|     5|     5|  null|     5|     2|     5|     5|     3|    17|    20|     8|    15|    19| 10|  2|   60|   40|   2| null| null| null| null| null| null| null| null| null| null| null| null| null| null| null| null| null| null|  null|    2|    3|    3|    3|    2|    1|    1|    2|    3|     2| null| null| null| null| null| null| null| null| null|  null|  3|null|null|null|null|  2|  null|  null|  null|  null|  null|  3|  1|     1|     2|  null|  null|  null|  null|     2|     6|  1|  2|null|  1|    3|    4|    3|    3|  3|    2|    5|    4|    3|    1|  3|     null|     null|   null|   null|   null|      4|      3|    7|    6|    1|    7|    6|    1|   null|   null|    3|    3|    2|    3|    3|    2|    3|    3|    2|    2|    3|    3|    2|    2|    3|    2| null| null|null|    3|    3|    3|    2|    3|    2|    3|    3|    2|     2|  1|\n",
      "+---+---+---+----+---+---+----+-----------+-----+-----+-----+-----+-----+-----+-----+-----+-----+------+------+------+------+------+------+------+------+------+------+------+-----+-----+-----+-----+-----+-----+-----+-----+-----+------+------+------+------+------+------+------+------+------+------+------+------+------+------+------+------+------+---+---+-----+-----+----+-----+-----+-----+-----+-----+-----+-----+-----+-----+-----+-----+-----+-----+-----+-----+-----+-----+-----+------+-----+-----+-----+-----+-----+-----+-----+-----+-----+------+-----+-----+-----+-----+-----+-----+-----+-----+-----+------+---+----+----+----+----+---+------+------+------+------+------+---+---+------+------+------+------+------+------+------+------+---+---+----+---+-----+-----+-----+-----+---+-----+-----+-----+-----+-----+---+---------+---------+-------+-------+-------+-------+-------+-----+-----+-----+-----+-----+-----+-------+-------+-----+-----+-----+-----+-----+-----+-----+-----+-----+-----+-----+-----+-----+-----+-----+-----+-----+-----+----+-----+-----+-----+-----+-----+-----+-----+-----+-----+------+---+\n",
      "only showing top 2 rows\n",
      "\n"
     ]
    }
   ],
   "source": [
    "# 옵션 설명\n",
    "# inferSchema : 데이터를 기반으로 타입을 유추(기본값 : False)\n",
    "# header : 첫번째 행을 컬럼 값으로 사용\n",
    "\n",
    "df = spark.read.csv(\"data/data.csv\", inferSchema = True, header = True)\n",
    "df.show(2)"
   ]
  },
  {
   "cell_type": "markdown",
   "id": "5d5c1bae",
   "metadata": {},
   "source": [
    "### 컬럼 정보 확인"
   ]
  },
  {
   "cell_type": "code",
   "execution_count": 5,
   "id": "3a698c95",
   "metadata": {},
   "outputs": [
    {
     "data": {
      "text/plain": [
       "<bound method DataFrame.printSchema of DataFrame[ID: int, DM1: int, DM2: int, DM3: int, DM4: int, KK1: int, KK2: int, WT: double, Q1A_1: int, Q1A_2: int, Q1A_3: int, Q1A_4: int, Q1A_5: int, Q1A_6: int, Q1A_7: int, Q1A_8: int, Q1A_9: int, Q1A_10: int, Q1A_11: int, Q1A_12: int, Q1A_13: int, Q1A_14: int, Q1A_15: int, Q1A_16: int, Q1A_17: int, Q1A_18: int, Q1A_19: int, Q1A_20: int, Q1B_1: int, Q1B_2: int, Q1B_3: int, Q1B_4: int, Q1B_5: int, Q1B_6: int, Q1B_7: int, Q1B_8: int, Q1B_9: int, Q1B_10: int, Q1B_11: int, Q1B_12: int, Q1B_13: int, Q1B_14: int, Q1B_15: int, Q1B_16: int, Q1B_17: int, Q1B_18: int, Q1B_19: int, Q1B_20: int, Q1_1A1: int, Q1_1A2: int, Q1_1A3: int, Q1_1B1: int, Q1_1B2: int, Q1_1B3: int, Q2A: int, Q2B: int, Q2_1A: int, Q2_1B: int, Q2_2: int, Q3A_1: int, Q3A_2: int, Q3A_3: int, Q3A_4: int, Q3A_5: int, Q3A_6: int, Q3A_7: int, Q3A_8: int, Q3A_9: int, Q3B_1: int, Q3B_2: int, Q3B_3: int, Q3B_4: int, Q3B_5: int, Q3B_6: int, Q3B_7: int, Q3B_8: int, Q3B_9: int, Q3B_10: int, Q3C_1: int, Q3C_2: int, Q3C_3: int, Q3C_4: int, Q3C_5: int, Q3C_6: int, Q3C_7: int, Q3C_8: int, Q3C_9: int, Q3C_10: int, Q3D_1: int, Q3D_2: int, Q3D_3: int, Q3D_4: int, Q3D_5: int, Q3D_6: int, Q3D_7: int, Q3D_8: int, Q3D_9: int, Q3D_10: int, Q4: int, Q5A1: int, Q5A2: int, Q5B1: int, Q5B2: int, Q6: int, Q6_1_1: int, Q6_1_2: int, Q6_1_3: int, Q6_1_4: int, Q6_1_5: int, Q7: int, Q8: int, Q8_1_1: int, Q8_1_2: int, Q8_1_3: int, Q8_1_4: int, Q8_1_5: int, Q8_1_6: int, Q8_2_1: int, Q8_2_2: int, Q9A: int, Q9B: int, Q9_1: int, Q10: int, Q10_1: int, Q10_2: int, Q11_1: int, Q11_2: int, Q12: int, Q12_1: int, Q13_1: int, Q13_2: int, Q13_3: int, Q13_4: int, Q14: int, Q14_1_1_1: int, Q14_1_1_2: int, Q14_1_2: int, Q14_2_1: int, Q14_2_2: int, Q14_3_1: int, Q14_3_2: int, Q15A1: int, Q15A2: int, Q15A3: int, Q15B1: int, Q15B2: int, Q15B3: int, Q15_1_1: int, Q15_1_2: int, Q16_1: int, Q16_2: int, Q16_3: int, Q16_4: int, Q16_5: int, Q16_6: int, Q16_7: int, Q16_8: int, Q16_9: int, Q17_1: int, Q17_2: int, Q17_3: int, Q17_4: int, Q17_5: int, Q17_6: int, Q17_7: int, Q18_1: int, Q18_2: int, Q19: int, Q20_1: int, Q20_2: int, Q20_3: int, Q20_4: int, Q20_5: int, Q20_6: int, Q20_7: int, Q20_8: int, Q20_9: int, Q20_10: int, Q21: int]>"
      ]
     },
     "execution_count": 5,
     "metadata": {},
     "output_type": "execute_result"
    }
   ],
   "source": [
    "df.printSchema"
   ]
  },
  {
   "cell_type": "code",
   "execution_count": 6,
   "id": "1e5c4d58",
   "metadata": {},
   "outputs": [
    {
     "name": "stdout",
     "output_type": "stream",
     "text": [
      "<class 'pyspark.sql.dataframe.DataFrame'>\n",
      "<class 'pyspark.sql.dataframe.DataFrame'>\n",
      "+---+---+---+\n",
      "| ID|DM1|DM2|\n",
      "+---+---+---+\n",
      "|  1|  3|  1|\n",
      "|  2|  3|  2|\n",
      "|  3|  2|  1|\n",
      "|  4|  2|  2|\n",
      "|  5|  3|  1|\n",
      "+---+---+---+\n",
      "only showing top 5 rows\n",
      "\n"
     ]
    }
   ],
   "source": [
    "# DataFrame 타입인 것을 확인\n",
    "print(type(df))\n",
    "\n",
    "# 몇몇 컬럼만 선택한 결과는 새로운 DataFrame 으로 반완됨\n",
    "print(type(df.select('ID', 'DM1', 'DM2')))\n",
    "\n",
    "# 데이터 조회\n",
    "df.select('ID', 'DM1', 'DM2').show(5)"
   ]
  },
  {
   "cell_type": "markdown",
   "id": "c384f92f",
   "metadata": {},
   "source": [
    "### 응답자 정보 분리[ID(id), DM1(대상구분), DM2(성별)]"
   ]
  },
  {
   "cell_type": "code",
   "execution_count": 7,
   "id": "59ebaf2e",
   "metadata": {},
   "outputs": [
    {
     "name": "stdout",
     "output_type": "stream",
     "text": [
      "+---+---+---+\n",
      "| ID|DM1|DM2|\n",
      "+---+---+---+\n",
      "|  1|  3|  1|\n",
      "|  2|  3|  2|\n",
      "|  3|  2|  1|\n",
      "|  4|  2|  2|\n",
      "|  5|  3|  1|\n",
      "+---+---+---+\n",
      "only showing top 5 rows\n",
      "\n"
     ]
    }
   ],
   "source": [
    "df_respondent = df.select('ID', 'DM1', 'DM2')\n",
    "df_respondent.show(5)"
   ]
  },
  {
   "cell_type": "code",
   "execution_count": 16,
   "id": "39b538eb",
   "metadata": {},
   "outputs": [
    {
     "ename": "Py4JJavaError",
     "evalue": "An error occurred while calling o96.save.\n: com.mysql.jdbc.exceptions.jdbc4.CommunicationsException: Communications link failure\n\nThe last packet successfully received from the server was 1 milliseconds ago.  The last packet sent successfully to the server was 1 milliseconds ago.\n\tat sun.reflect.NativeConstructorAccessorImpl.newInstance0(Native Method)\n\tat sun.reflect.NativeConstructorAccessorImpl.newInstance(NativeConstructorAccessorImpl.java:62)\n\tat sun.reflect.DelegatingConstructorAccessorImpl.newInstance(DelegatingConstructorAccessorImpl.java:45)\n\tat java.lang.reflect.Constructor.newInstance(Constructor.java:423)\n\tat com.mysql.jdbc.Util.handleNewInstance(Util.java:425)\n\tat com.mysql.jdbc.SQLError.createCommunicationsException(SQLError.java:989)\n\tat com.mysql.jdbc.ExportControlled.transformSocketToSSLSocket(ExportControlled.java:203)\n\tat com.mysql.jdbc.MysqlIO.negotiateSSLConnection(MysqlIO.java:4901)\n\tat com.mysql.jdbc.MysqlIO.proceedHandshakeWithPluggableAuthentication(MysqlIO.java:1659)\n\tat com.mysql.jdbc.MysqlIO.doHandshake(MysqlIO.java:1226)\n\tat com.mysql.jdbc.ConnectionImpl.coreConnect(ConnectionImpl.java:2191)\n\tat com.mysql.jdbc.ConnectionImpl.connectOneTryOnly(ConnectionImpl.java:2222)\n\tat com.mysql.jdbc.ConnectionImpl.createNewIO(ConnectionImpl.java:2017)\n\tat com.mysql.jdbc.ConnectionImpl.<init>(ConnectionImpl.java:779)\n\tat com.mysql.jdbc.JDBC4Connection.<init>(JDBC4Connection.java:47)\n\tat sun.reflect.NativeConstructorAccessorImpl.newInstance0(Native Method)\n\tat sun.reflect.NativeConstructorAccessorImpl.newInstance(NativeConstructorAccessorImpl.java:62)\n\tat sun.reflect.DelegatingConstructorAccessorImpl.newInstance(DelegatingConstructorAccessorImpl.java:45)\n\tat java.lang.reflect.Constructor.newInstance(Constructor.java:423)\n\tat com.mysql.jdbc.Util.handleNewInstance(Util.java:425)\n\tat com.mysql.jdbc.ConnectionImpl.getInstance(ConnectionImpl.java:389)\n\tat com.mysql.jdbc.NonRegisteringDriver.connect(NonRegisteringDriver.java:330)\n\tat org.apache.spark.sql.execution.datasources.jdbc.connection.BasicConnectionProvider.getConnection(BasicConnectionProvider.scala:49)\n\tat org.apache.spark.sql.execution.datasources.jdbc.connection.ConnectionProvider$.create(ConnectionProvider.scala:68)\n\tat org.apache.spark.sql.execution.datasources.jdbc.JdbcUtils$.$anonfun$createConnectionFactory$1(JdbcUtils.scala:62)\n\tat org.apache.spark.sql.execution.datasources.jdbc.JdbcRelationProvider.createRelation(JdbcRelationProvider.scala:48)\n\tat org.apache.spark.sql.execution.datasources.SaveIntoDataSourceCommand.run(SaveIntoDataSourceCommand.scala:46)\n\tat org.apache.spark.sql.execution.command.ExecutedCommandExec.sideEffectResult$lzycompute(commands.scala:70)\n\tat org.apache.spark.sql.execution.command.ExecutedCommandExec.sideEffectResult(commands.scala:68)\n\tat org.apache.spark.sql.execution.command.ExecutedCommandExec.doExecute(commands.scala:90)\n\tat org.apache.spark.sql.execution.SparkPlan.$anonfun$execute$1(SparkPlan.scala:180)\n\tat org.apache.spark.sql.execution.SparkPlan.$anonfun$executeQuery$1(SparkPlan.scala:218)\n\tat org.apache.spark.rdd.RDDOperationScope$.withScope(RDDOperationScope.scala:151)\n\tat org.apache.spark.sql.execution.SparkPlan.executeQuery(SparkPlan.scala:215)\n\tat org.apache.spark.sql.execution.SparkPlan.execute(SparkPlan.scala:176)\n\tat org.apache.spark.sql.execution.QueryExecution.toRdd$lzycompute(QueryExecution.scala:132)\n\tat org.apache.spark.sql.execution.QueryExecution.toRdd(QueryExecution.scala:131)\n\tat org.apache.spark.sql.DataFrameWriter.$anonfun$runCommand$1(DataFrameWriter.scala:989)\n\tat org.apache.spark.sql.execution.SQLExecution$.$anonfun$withNewExecutionId$5(SQLExecution.scala:103)\n\tat org.apache.spark.sql.execution.SQLExecution$.withSQLConfPropagated(SQLExecution.scala:163)\n\tat org.apache.spark.sql.execution.SQLExecution$.$anonfun$withNewExecutionId$1(SQLExecution.scala:90)\n\tat org.apache.spark.sql.SparkSession.withActive(SparkSession.scala:775)\n\tat org.apache.spark.sql.execution.SQLExecution$.withNewExecutionId(SQLExecution.scala:64)\n\tat org.apache.spark.sql.DataFrameWriter.runCommand(DataFrameWriter.scala:989)\n\tat org.apache.spark.sql.DataFrameWriter.saveToV1Source(DataFrameWriter.scala:438)\n\tat org.apache.spark.sql.DataFrameWriter.saveInternal(DataFrameWriter.scala:415)\n\tat org.apache.spark.sql.DataFrameWriter.save(DataFrameWriter.scala:301)\n\tat sun.reflect.NativeMethodAccessorImpl.invoke0(Native Method)\n\tat sun.reflect.NativeMethodAccessorImpl.invoke(NativeMethodAccessorImpl.java:62)\n\tat sun.reflect.DelegatingMethodAccessorImpl.invoke(DelegatingMethodAccessorImpl.java:43)\n\tat java.lang.reflect.Method.invoke(Method.java:498)\n\tat py4j.reflection.MethodInvoker.invoke(MethodInvoker.java:244)\n\tat py4j.reflection.ReflectionEngine.invoke(ReflectionEngine.java:357)\n\tat py4j.Gateway.invoke(Gateway.java:282)\n\tat py4j.commands.AbstractCommand.invokeMethod(AbstractCommand.java:132)\n\tat py4j.commands.CallCommand.execute(CallCommand.java:79)\n\tat py4j.GatewayConnection.run(GatewayConnection.java:238)\n\tat java.lang.Thread.run(Thread.java:748)\nCaused by: javax.net.ssl.SSLHandshakeException: No appropriate protocol (protocol is disabled or cipher suites are inappropriate)\n\tat sun.security.ssl.HandshakeContext.<init>(HandshakeContext.java:171)\n\tat sun.security.ssl.ClientHandshakeContext.<init>(ClientHandshakeContext.java:98)\n\tat sun.security.ssl.TransportContext.kickstart(TransportContext.java:220)\n\tat sun.security.ssl.SSLSocketImpl.startHandshake(SSLSocketImpl.java:428)\n\tat com.mysql.jdbc.ExportControlled.transformSocketToSSLSocket(ExportControlled.java:188)\n\t... 51 more\n",
     "output_type": "error",
     "traceback": [
      "\u001b[0;31m---------------------------------------------------------------------------\u001b[0m",
      "\u001b[0;31mPy4JJavaError\u001b[0m                             Traceback (most recent call last)",
      "\u001b[0;32m<ipython-input-16-268673212d44>\u001b[0m in \u001b[0;36m<module>\u001b[0;34m\u001b[0m\n\u001b[1;32m      1\u001b[0m \u001b[0;31m### DB 에 저장\u001b[0m\u001b[0;34m\u001b[0m\u001b[0;34m\u001b[0m\u001b[0;34m\u001b[0m\u001b[0m\n\u001b[0;32m----> 2\u001b[0;31m \u001b[0mdf_respondent\u001b[0m\u001b[0;31m \u001b[0m\u001b[0;31m\\\u001b[0m\u001b[0;34m\u001b[0m\u001b[0;34m\u001b[0m\u001b[0m\n\u001b[0m\u001b[1;32m      3\u001b[0m     \u001b[0;34m.\u001b[0m\u001b[0mwrite\u001b[0m\u001b[0;31m \u001b[0m\u001b[0;31m\\\u001b[0m\u001b[0;34m\u001b[0m\u001b[0;34m\u001b[0m\u001b[0m\n\u001b[1;32m      4\u001b[0m     \u001b[0;34m.\u001b[0m\u001b[0mformat\u001b[0m\u001b[0;34m(\u001b[0m\u001b[0;34m\"jdbc\"\u001b[0m\u001b[0;34m)\u001b[0m\u001b[0;31m \u001b[0m\u001b[0;31m\\\u001b[0m\u001b[0;34m\u001b[0m\u001b[0;34m\u001b[0m\u001b[0m\n\u001b[1;32m      5\u001b[0m     \u001b[0;34m.\u001b[0m\u001b[0mmode\u001b[0m\u001b[0;34m(\u001b[0m\u001b[0;34m'append'\u001b[0m\u001b[0;34m)\u001b[0m\u001b[0;31m \u001b[0m\u001b[0;31m\\\u001b[0m\u001b[0;34m\u001b[0m\u001b[0;34m\u001b[0m\u001b[0m\n",
      "\u001b[0;32m/home/ubuntu/anaconda3/envs/team3/lib/python3.8/site-packages/pyspark/sql/readwriter.py\u001b[0m in \u001b[0;36msave\u001b[0;34m(self, path, format, mode, partitionBy, **options)\u001b[0m\n\u001b[1;32m   1105\u001b[0m             \u001b[0mself\u001b[0m\u001b[0;34m.\u001b[0m\u001b[0mformat\u001b[0m\u001b[0;34m(\u001b[0m\u001b[0mformat\u001b[0m\u001b[0;34m)\u001b[0m\u001b[0;34m\u001b[0m\u001b[0;34m\u001b[0m\u001b[0m\n\u001b[1;32m   1106\u001b[0m         \u001b[0;32mif\u001b[0m \u001b[0mpath\u001b[0m \u001b[0;32mis\u001b[0m \u001b[0;32mNone\u001b[0m\u001b[0;34m:\u001b[0m\u001b[0;34m\u001b[0m\u001b[0;34m\u001b[0m\u001b[0m\n\u001b[0;32m-> 1107\u001b[0;31m             \u001b[0mself\u001b[0m\u001b[0;34m.\u001b[0m\u001b[0m_jwrite\u001b[0m\u001b[0;34m.\u001b[0m\u001b[0msave\u001b[0m\u001b[0;34m(\u001b[0m\u001b[0;34m)\u001b[0m\u001b[0;34m\u001b[0m\u001b[0;34m\u001b[0m\u001b[0m\n\u001b[0m\u001b[1;32m   1108\u001b[0m         \u001b[0;32melse\u001b[0m\u001b[0;34m:\u001b[0m\u001b[0;34m\u001b[0m\u001b[0;34m\u001b[0m\u001b[0m\n\u001b[1;32m   1109\u001b[0m             \u001b[0mself\u001b[0m\u001b[0;34m.\u001b[0m\u001b[0m_jwrite\u001b[0m\u001b[0;34m.\u001b[0m\u001b[0msave\u001b[0m\u001b[0;34m(\u001b[0m\u001b[0mpath\u001b[0m\u001b[0;34m)\u001b[0m\u001b[0;34m\u001b[0m\u001b[0;34m\u001b[0m\u001b[0m\n",
      "\u001b[0;32m/home/ubuntu/anaconda3/envs/team3/lib/python3.8/site-packages/py4j/java_gateway.py\u001b[0m in \u001b[0;36m__call__\u001b[0;34m(self, *args)\u001b[0m\n\u001b[1;32m   1302\u001b[0m \u001b[0;34m\u001b[0m\u001b[0m\n\u001b[1;32m   1303\u001b[0m         \u001b[0manswer\u001b[0m \u001b[0;34m=\u001b[0m \u001b[0mself\u001b[0m\u001b[0;34m.\u001b[0m\u001b[0mgateway_client\u001b[0m\u001b[0;34m.\u001b[0m\u001b[0msend_command\u001b[0m\u001b[0;34m(\u001b[0m\u001b[0mcommand\u001b[0m\u001b[0;34m)\u001b[0m\u001b[0;34m\u001b[0m\u001b[0;34m\u001b[0m\u001b[0m\n\u001b[0;32m-> 1304\u001b[0;31m         return_value = get_return_value(\n\u001b[0m\u001b[1;32m   1305\u001b[0m             answer, self.gateway_client, self.target_id, self.name)\n\u001b[1;32m   1306\u001b[0m \u001b[0;34m\u001b[0m\u001b[0m\n",
      "\u001b[0;32m/home/ubuntu/anaconda3/envs/team3/lib/python3.8/site-packages/pyspark/sql/utils.py\u001b[0m in \u001b[0;36mdeco\u001b[0;34m(*a, **kw)\u001b[0m\n\u001b[1;32m    109\u001b[0m     \u001b[0;32mdef\u001b[0m \u001b[0mdeco\u001b[0m\u001b[0;34m(\u001b[0m\u001b[0;34m*\u001b[0m\u001b[0ma\u001b[0m\u001b[0;34m,\u001b[0m \u001b[0;34m**\u001b[0m\u001b[0mkw\u001b[0m\u001b[0;34m)\u001b[0m\u001b[0;34m:\u001b[0m\u001b[0;34m\u001b[0m\u001b[0;34m\u001b[0m\u001b[0m\n\u001b[1;32m    110\u001b[0m         \u001b[0;32mtry\u001b[0m\u001b[0;34m:\u001b[0m\u001b[0;34m\u001b[0m\u001b[0;34m\u001b[0m\u001b[0m\n\u001b[0;32m--> 111\u001b[0;31m             \u001b[0;32mreturn\u001b[0m \u001b[0mf\u001b[0m\u001b[0;34m(\u001b[0m\u001b[0;34m*\u001b[0m\u001b[0ma\u001b[0m\u001b[0;34m,\u001b[0m \u001b[0;34m**\u001b[0m\u001b[0mkw\u001b[0m\u001b[0;34m)\u001b[0m\u001b[0;34m\u001b[0m\u001b[0;34m\u001b[0m\u001b[0m\n\u001b[0m\u001b[1;32m    112\u001b[0m         \u001b[0;32mexcept\u001b[0m \u001b[0mpy4j\u001b[0m\u001b[0;34m.\u001b[0m\u001b[0mprotocol\u001b[0m\u001b[0;34m.\u001b[0m\u001b[0mPy4JJavaError\u001b[0m \u001b[0;32mas\u001b[0m \u001b[0me\u001b[0m\u001b[0;34m:\u001b[0m\u001b[0;34m\u001b[0m\u001b[0;34m\u001b[0m\u001b[0m\n\u001b[1;32m    113\u001b[0m             \u001b[0mconverted\u001b[0m \u001b[0;34m=\u001b[0m \u001b[0mconvert_exception\u001b[0m\u001b[0;34m(\u001b[0m\u001b[0me\u001b[0m\u001b[0;34m.\u001b[0m\u001b[0mjava_exception\u001b[0m\u001b[0;34m)\u001b[0m\u001b[0;34m\u001b[0m\u001b[0;34m\u001b[0m\u001b[0m\n",
      "\u001b[0;32m/home/ubuntu/anaconda3/envs/team3/lib/python3.8/site-packages/py4j/protocol.py\u001b[0m in \u001b[0;36mget_return_value\u001b[0;34m(answer, gateway_client, target_id, name)\u001b[0m\n\u001b[1;32m    324\u001b[0m             \u001b[0mvalue\u001b[0m \u001b[0;34m=\u001b[0m \u001b[0mOUTPUT_CONVERTER\u001b[0m\u001b[0;34m[\u001b[0m\u001b[0mtype\u001b[0m\u001b[0;34m]\u001b[0m\u001b[0;34m(\u001b[0m\u001b[0manswer\u001b[0m\u001b[0;34m[\u001b[0m\u001b[0;36m2\u001b[0m\u001b[0;34m:\u001b[0m\u001b[0;34m]\u001b[0m\u001b[0;34m,\u001b[0m \u001b[0mgateway_client\u001b[0m\u001b[0;34m)\u001b[0m\u001b[0;34m\u001b[0m\u001b[0;34m\u001b[0m\u001b[0m\n\u001b[1;32m    325\u001b[0m             \u001b[0;32mif\u001b[0m \u001b[0manswer\u001b[0m\u001b[0;34m[\u001b[0m\u001b[0;36m1\u001b[0m\u001b[0;34m]\u001b[0m \u001b[0;34m==\u001b[0m \u001b[0mREFERENCE_TYPE\u001b[0m\u001b[0;34m:\u001b[0m\u001b[0;34m\u001b[0m\u001b[0;34m\u001b[0m\u001b[0m\n\u001b[0;32m--> 326\u001b[0;31m                 raise Py4JJavaError(\n\u001b[0m\u001b[1;32m    327\u001b[0m                     \u001b[0;34m\"An error occurred while calling {0}{1}{2}.\\n\"\u001b[0m\u001b[0;34m.\u001b[0m\u001b[0;34m\u001b[0m\u001b[0;34m\u001b[0m\u001b[0m\n\u001b[1;32m    328\u001b[0m                     format(target_id, \".\", name), value)\n",
      "\u001b[0;31mPy4JJavaError\u001b[0m: An error occurred while calling o96.save.\n: com.mysql.jdbc.exceptions.jdbc4.CommunicationsException: Communications link failure\n\nThe last packet successfully received from the server was 1 milliseconds ago.  The last packet sent successfully to the server was 1 milliseconds ago.\n\tat sun.reflect.NativeConstructorAccessorImpl.newInstance0(Native Method)\n\tat sun.reflect.NativeConstructorAccessorImpl.newInstance(NativeConstructorAccessorImpl.java:62)\n\tat sun.reflect.DelegatingConstructorAccessorImpl.newInstance(DelegatingConstructorAccessorImpl.java:45)\n\tat java.lang.reflect.Constructor.newInstance(Constructor.java:423)\n\tat com.mysql.jdbc.Util.handleNewInstance(Util.java:425)\n\tat com.mysql.jdbc.SQLError.createCommunicationsException(SQLError.java:989)\n\tat com.mysql.jdbc.ExportControlled.transformSocketToSSLSocket(ExportControlled.java:203)\n\tat com.mysql.jdbc.MysqlIO.negotiateSSLConnection(MysqlIO.java:4901)\n\tat com.mysql.jdbc.MysqlIO.proceedHandshakeWithPluggableAuthentication(MysqlIO.java:1659)\n\tat com.mysql.jdbc.MysqlIO.doHandshake(MysqlIO.java:1226)\n\tat com.mysql.jdbc.ConnectionImpl.coreConnect(ConnectionImpl.java:2191)\n\tat com.mysql.jdbc.ConnectionImpl.connectOneTryOnly(ConnectionImpl.java:2222)\n\tat com.mysql.jdbc.ConnectionImpl.createNewIO(ConnectionImpl.java:2017)\n\tat com.mysql.jdbc.ConnectionImpl.<init>(ConnectionImpl.java:779)\n\tat com.mysql.jdbc.JDBC4Connection.<init>(JDBC4Connection.java:47)\n\tat sun.reflect.NativeConstructorAccessorImpl.newInstance0(Native Method)\n\tat sun.reflect.NativeConstructorAccessorImpl.newInstance(NativeConstructorAccessorImpl.java:62)\n\tat sun.reflect.DelegatingConstructorAccessorImpl.newInstance(DelegatingConstructorAccessorImpl.java:45)\n\tat java.lang.reflect.Constructor.newInstance(Constructor.java:423)\n\tat com.mysql.jdbc.Util.handleNewInstance(Util.java:425)\n\tat com.mysql.jdbc.ConnectionImpl.getInstance(ConnectionImpl.java:389)\n\tat com.mysql.jdbc.NonRegisteringDriver.connect(NonRegisteringDriver.java:330)\n\tat org.apache.spark.sql.execution.datasources.jdbc.connection.BasicConnectionProvider.getConnection(BasicConnectionProvider.scala:49)\n\tat org.apache.spark.sql.execution.datasources.jdbc.connection.ConnectionProvider$.create(ConnectionProvider.scala:68)\n\tat org.apache.spark.sql.execution.datasources.jdbc.JdbcUtils$.$anonfun$createConnectionFactory$1(JdbcUtils.scala:62)\n\tat org.apache.spark.sql.execution.datasources.jdbc.JdbcRelationProvider.createRelation(JdbcRelationProvider.scala:48)\n\tat org.apache.spark.sql.execution.datasources.SaveIntoDataSourceCommand.run(SaveIntoDataSourceCommand.scala:46)\n\tat org.apache.spark.sql.execution.command.ExecutedCommandExec.sideEffectResult$lzycompute(commands.scala:70)\n\tat org.apache.spark.sql.execution.command.ExecutedCommandExec.sideEffectResult(commands.scala:68)\n\tat org.apache.spark.sql.execution.command.ExecutedCommandExec.doExecute(commands.scala:90)\n\tat org.apache.spark.sql.execution.SparkPlan.$anonfun$execute$1(SparkPlan.scala:180)\n\tat org.apache.spark.sql.execution.SparkPlan.$anonfun$executeQuery$1(SparkPlan.scala:218)\n\tat org.apache.spark.rdd.RDDOperationScope$.withScope(RDDOperationScope.scala:151)\n\tat org.apache.spark.sql.execution.SparkPlan.executeQuery(SparkPlan.scala:215)\n\tat org.apache.spark.sql.execution.SparkPlan.execute(SparkPlan.scala:176)\n\tat org.apache.spark.sql.execution.QueryExecution.toRdd$lzycompute(QueryExecution.scala:132)\n\tat org.apache.spark.sql.execution.QueryExecution.toRdd(QueryExecution.scala:131)\n\tat org.apache.spark.sql.DataFrameWriter.$anonfun$runCommand$1(DataFrameWriter.scala:989)\n\tat org.apache.spark.sql.execution.SQLExecution$.$anonfun$withNewExecutionId$5(SQLExecution.scala:103)\n\tat org.apache.spark.sql.execution.SQLExecution$.withSQLConfPropagated(SQLExecution.scala:163)\n\tat org.apache.spark.sql.execution.SQLExecution$.$anonfun$withNewExecutionId$1(SQLExecution.scala:90)\n\tat org.apache.spark.sql.SparkSession.withActive(SparkSession.scala:775)\n\tat org.apache.spark.sql.execution.SQLExecution$.withNewExecutionId(SQLExecution.scala:64)\n\tat org.apache.spark.sql.DataFrameWriter.runCommand(DataFrameWriter.scala:989)\n\tat org.apache.spark.sql.DataFrameWriter.saveToV1Source(DataFrameWriter.scala:438)\n\tat org.apache.spark.sql.DataFrameWriter.saveInternal(DataFrameWriter.scala:415)\n\tat org.apache.spark.sql.DataFrameWriter.save(DataFrameWriter.scala:301)\n\tat sun.reflect.NativeMethodAccessorImpl.invoke0(Native Method)\n\tat sun.reflect.NativeMethodAccessorImpl.invoke(NativeMethodAccessorImpl.java:62)\n\tat sun.reflect.DelegatingMethodAccessorImpl.invoke(DelegatingMethodAccessorImpl.java:43)\n\tat java.lang.reflect.Method.invoke(Method.java:498)\n\tat py4j.reflection.MethodInvoker.invoke(MethodInvoker.java:244)\n\tat py4j.reflection.ReflectionEngine.invoke(ReflectionEngine.java:357)\n\tat py4j.Gateway.invoke(Gateway.java:282)\n\tat py4j.commands.AbstractCommand.invokeMethod(AbstractCommand.java:132)\n\tat py4j.commands.CallCommand.execute(CallCommand.java:79)\n\tat py4j.GatewayConnection.run(GatewayConnection.java:238)\n\tat java.lang.Thread.run(Thread.java:748)\nCaused by: javax.net.ssl.SSLHandshakeException: No appropriate protocol (protocol is disabled or cipher suites are inappropriate)\n\tat sun.security.ssl.HandshakeContext.<init>(HandshakeContext.java:171)\n\tat sun.security.ssl.ClientHandshakeContext.<init>(ClientHandshakeContext.java:98)\n\tat sun.security.ssl.TransportContext.kickstart(TransportContext.java:220)\n\tat sun.security.ssl.SSLSocketImpl.startHandshake(SSLSocketImpl.java:428)\n\tat com.mysql.jdbc.ExportControlled.transformSocketToSSLSocket(ExportControlled.java:188)\n\t... 51 more\n"
     ]
    }
   ],
   "source": [
    "### DB 에 저장\n",
    "df_respondent \\\n",
    "    .write \\\n",
    "    .format(\"jdbc\") \\\n",
    "    .mode('append') \\\n",
    "    .option(\"url\", DB_URL) \\\n",
    "    .option(\"dbtable\", \"respondent\") \\\n",
    "    .option(\"user\", DB_USER) \\\n",
    "    .option(\"password\", DB_PASS) \\\n",
    "    .save()"
   ]
  },
  {
   "cell_type": "markdown",
   "id": "c1707865",
   "metadata": {},
   "source": [
    "### 최진영님 정보 분리[ID(id), Q1A_1 ~ 20, Q4]"
   ]
  },
  {
   "cell_type": "code",
   "execution_count": 18,
   "id": "d8939f5b",
   "metadata": {},
   "outputs": [
    {
     "name": "stdout",
     "output_type": "stream",
     "text": [
      "+---+-----+-----+-----+-----+-----+-----+-----+-----+-----+------+------+------+------+------+------+------+------+------+------+------+---+\n",
      "| ID|Q1A_1|Q1A_2|Q1A_3|Q1A_4|Q1A_5|Q1A_6|Q1A_7|Q1A_8|Q1A_9|Q1A_10|Q1A_11|Q1A_12|Q1A_13|Q1A_14|Q1A_15|Q1A_16|Q1A_17|Q1A_18|Q1A_19|Q1A_20| Q4|\n",
      "+---+-----+-----+-----+-----+-----+-----+-----+-----+-----+------+------+------+------+------+------+------+------+------+------+------+---+\n",
      "|  1|    1|    1|    1|    1|    1|    0|    0|    1|    0|     1|     0|     0|     1|     1|     1|     0|     1|     0|     1|     1|  3|\n",
      "|  2|    1|    1|    1|    1|    1|    0|    0|    1|    1|     0|     0|     0|     1|     1|     1|     0|     1|     1|     1|     1|  3|\n",
      "|  3|    1|    1|    1|    1|    1|    1|    0|    1|    0|     0|     0|     0|     1|     1|     1|     0|     0|     0|     0|     1|  3|\n",
      "|  4|    1|    1|    1|    1|    1|    0|    0|    1|    0|     0|     0|     0|     1|     1|     1|     1|     1|     1|     1|     1|  3|\n",
      "|  5|    1|    1|    1|    1|    1|    0|    0|    1|    0|     0|     0|     0|     1|     1|     1|     0|     1|     1|     1|     1|  3|\n",
      "+---+-----+-----+-----+-----+-----+-----+-----+-----+-----+------+------+------+------+------+------+------+------+------+------+------+---+\n",
      "only showing top 5 rows\n",
      "\n"
     ]
    }
   ],
   "source": [
    "columns = ['ID'] + ['Q1A_' + str(i) for i in range(1, 21)] + ['Q4']\n",
    "df_cjy = df.select(columns)\n",
    "df_cjy.show(5)"
   ]
  },
  {
   "cell_type": "code",
   "execution_count": 20,
   "id": "fcbcfcff",
   "metadata": {},
   "outputs": [],
   "source": [
    "### DB 에 저장\n",
    "df_cjy \\\n",
    "    .write \\\n",
    "    .format(\"jdbc\") \\\n",
    "    .mode('append') \\\n",
    "    .option(\"url\", DB_URL) \\\n",
    "    .option(\"dbtable\", \"response_cjy\") \\\n",
    "    .option(\"user\", DB_USER) \\\n",
    "    .option(\"password\", DB_PASS) \\\n",
    "    .save()"
   ]
  },
  {
   "cell_type": "markdown",
   "id": "ae395d1c",
   "metadata": {},
   "source": [
    "### 김아영님 정보 분리[ID(id), Q9A, Q10]"
   ]
  },
  {
   "cell_type": "code",
   "execution_count": 21,
   "id": "0dd1bee2",
   "metadata": {},
   "outputs": [
    {
     "name": "stdout",
     "output_type": "stream",
     "text": [
      "+---+---+---+\n",
      "| ID|Q9A|Q10|\n",
      "+---+---+---+\n",
      "|  1|  1|  1|\n",
      "|  2|  1|  1|\n",
      "|  3|  1|  1|\n",
      "|  4|  1|  1|\n",
      "|  5|  1|  1|\n",
      "+---+---+---+\n",
      "only showing top 5 rows\n",
      "\n"
     ]
    }
   ],
   "source": [
    "df_kay = df.select('ID', 'Q9A', 'Q10')\n",
    "df_kay.show(5)"
   ]
  },
  {
   "cell_type": "code",
   "execution_count": 23,
   "id": "22c8c274",
   "metadata": {},
   "outputs": [],
   "source": [
    "### DB 에 저장\n",
    "df_kay \\\n",
    "    .write \\\n",
    "    .format(\"jdbc\") \\\n",
    "    .mode('append') \\\n",
    "    .option(\"url\", DB_URL) \\\n",
    "    .option(\"dbtable\", \"response_kay\") \\\n",
    "    .option(\"user\", DB_USER) \\\n",
    "    .option(\"password\", DB_PASS) \\\n",
    "    .save()"
   ]
  },
  {
   "cell_type": "markdown",
   "id": "b539a8de",
   "metadata": {},
   "source": [
    "### 김유민님 정보 분리[ID(id), Q8, Q8_1_1~6]"
   ]
  },
  {
   "cell_type": "code",
   "execution_count": 24,
   "id": "22e36876",
   "metadata": {},
   "outputs": [
    {
     "name": "stdout",
     "output_type": "stream",
     "text": [
      "+---+---+------+------+------+------+------+------+\n",
      "| ID| Q8|Q8_1_1|Q8_1_2|Q8_1_3|Q8_1_4|Q8_1_5|Q8_1_6|\n",
      "+---+---+------+------+------+------+------+------+\n",
      "|  1|  1|     1|     2|  null|  null|  null|  null|\n",
      "|  2|  1|     1|     2|  null|  null|  null|  null|\n",
      "|  3|  1|     3|     4|     5|  null|  null|  null|\n",
      "|  4|  1|     2|     3|     4|  null|  null|  null|\n",
      "|  5|  1|     1|     2|  null|  null|  null|  null|\n",
      "+---+---+------+------+------+------+------+------+\n",
      "only showing top 5 rows\n",
      "\n"
     ]
    }
   ],
   "source": [
    "columns = ['ID', 'Q8'] + ['Q8_1_' + str(i) for i in range(1, 7)]\n",
    "df_kym = df.select(columns)\n",
    "df_kym.show(5)"
   ]
  },
  {
   "cell_type": "code",
   "execution_count": 25,
   "id": "02b16cba",
   "metadata": {},
   "outputs": [],
   "source": [
    "### DB 에 저장\n",
    "df_kym \\\n",
    "    .write \\\n",
    "    .format(\"jdbc\") \\\n",
    "    .mode('append') \\\n",
    "    .option(\"url\", DB_URL) \\\n",
    "    .option(\"dbtable\", \"response_kym\") \\\n",
    "    .option(\"user\", DB_USER) \\\n",
    "    .option(\"password\", DB_PASS) \\\n",
    "    .save()"
   ]
  },
  {
   "cell_type": "markdown",
   "id": "a02542e9",
   "metadata": {},
   "source": [
    "### 윤재철님 정보 분리[ID(id), Q12, Q12_1]"
   ]
  },
  {
   "cell_type": "code",
   "execution_count": 26,
   "id": "bddb0a56",
   "metadata": {},
   "outputs": [
    {
     "name": "stdout",
     "output_type": "stream",
     "text": [
      "+---+---+-----+\n",
      "| ID|Q12|Q12_1|\n",
      "+---+---+-----+\n",
      "|  1|  3|    1|\n",
      "|  2|  3|    2|\n",
      "|  3|  3|    1|\n",
      "|  4|  3|    1|\n",
      "|  5|  3|    2|\n",
      "+---+---+-----+\n",
      "only showing top 5 rows\n",
      "\n"
     ]
    }
   ],
   "source": [
    "df_yjc = df.select('ID', 'Q12', 'Q12_1')\n",
    "df_yjc.show(5)"
   ]
  },
  {
   "cell_type": "code",
   "execution_count": 27,
   "id": "031f952f",
   "metadata": {},
   "outputs": [],
   "source": [
    "### DB 에 저장\n",
    "df_yjc \\\n",
    "    .write \\\n",
    "    .format(\"jdbc\") \\\n",
    "    .mode('append') \\\n",
    "    .option(\"url\", DB_URL) \\\n",
    "    .option(\"dbtable\", \"response_yjc\") \\\n",
    "    .option(\"user\", DB_USER) \\\n",
    "    .option(\"password\", DB_PASS) \\\n",
    "    .save()"
   ]
  },
  {
   "cell_type": "markdown",
   "id": "8dd86af5",
   "metadata": {},
   "source": [
    "### 과의존 여부 판단을 위한 학습 데이터 분리\n",
    "\n",
    "- DM1 선택에 따라 타겟 컬럼이 달라진다"
   ]
  },
  {
   "cell_type": "code",
   "execution_count": 10,
   "id": "a06fb627",
   "metadata": {},
   "outputs": [
    {
     "name": "stdout",
     "output_type": "stream",
     "text": [
      "['ID', Column<'Q3A_1 AS `Q3_1`'>, Column<'Q3A_2 AS `Q3_2`'>, Column<'Q3A_3 AS `Q3_3`'>, Column<'Q3A_4 AS `Q3_4`'>, Column<'Q3A_5 AS `Q3_5`'>, Column<'Q3A_6 AS `Q3_6`'>, Column<'Q3A_7 AS `Q3_7`'>, Column<'Q3A_8 AS `Q3_8`'>, Column<'Q3A_9 AS `Q3_9`'>, Column<'Q3A_10 AS `Q3_10`'>, 'KK1']\n",
      "+---+----+----+----+----+----+----+----+----+----+-----+---+\n",
      "| ID|Q3_1|Q3_2|Q3_3|Q3_4|Q3_5|Q3_6|Q3_7|Q3_8|Q3_9|Q3_10|KK1|\n",
      "+---+----+----+----+----+----+----+----+----+----+-----+---+\n",
      "|  8|   3|   3|   2|   2|   2|   3|   2|   2|   2| null|  3|\n",
      "| 11|   3|   3|   2|   3|   2|   2|   2|   2|   2| null|  3|\n",
      "| 14|   3|   2|   2|   3|   2|   2|   2|   2|   2| null|  3|\n",
      "+---+----+----+----+----+----+----+----+----+----+-----+---+\n",
      "only showing top 3 rows\n",
      "\n"
     ]
    }
   ],
   "source": [
    "# 유아동은 컬럼이 9번까지 있어서 별도 처리를 해야하기 때문에\n",
    "# 10번 컬럼을 임의로 만들어서 None 값으로 넣어준다\n",
    "\n",
    "### int type에 컬럼 Q3A_10 을 추가하고 데이터는 None 으로 채운다.\n",
    "df_fit = df.withColumn('Q3A_10', lit(None).cast('int'))\n",
    "\n",
    "def insertData(dm1, grp):\n",
    "    columns = ['ID']\n",
    "    \n",
    "    for i in range(1, 11):\n",
    "        \n",
    "        # col('Q3{}_{}'.format(grp, i)) => 컬럼을 선택\n",
    "        # .alias('Q3_{}'.format(i)) => 이름을 변경\n",
    "        \n",
    "        # dm1 : 1, grp : A 일 때\n",
    "        # Q3A_1 ~ Q3A_10 => Q3_1 ~ Q3_10\n",
    "\n",
    "        column = col('Q3{}_{}'.format(grp, i)).alias('Q3_{}'.format(i))\n",
    "        columns = columns + [column]\n",
    "    \n",
    "    columns = columns + ['KK1']\n",
    "    \n",
    "    # df_fit.select(columns) : 선언한 컬럼들만 추출\n",
    "    # .filter('DM1 == {}'.format(dm1)) : DM1 값이 dm1 인 row 만 필터\n",
    "        # pandas dataframe 의 df[df['DM1'] == 1] 과 같다\n",
    "    df_questions = df_fit.select(columns).filter('DM1 == {}'.format(dm1))\n",
    "    \n",
    "    ### DB 에 저장\n",
    "    ### mode : append => 테이블에 데이터만 추가하는 옵션\n",
    "    df_questions \\\n",
    "        .write \\\n",
    "        .format(\"jdbc\") \\\n",
    "        .mode('append') \\\n",
    "        .option(\"url\", DB_URL) \\\n",
    "        .option(\"dbtable\", \"response_fit\") \\\n",
    "        .option(\"user\", DB_USER) \\\n",
    "        .option(\"password\", DB_PASS) \\\n",
    "        .save()\n",
    "    \n",
    "    \n",
    "insertData(1, 'A')\n",
    "insertData(2, 'B')\n",
    "insertData(3, 'C')\n",
    "insertData(4, 'D')"
   ]
  },
  {
   "cell_type": "code",
   "execution_count": null,
   "id": "d461d41c",
   "metadata": {},
   "outputs": [],
   "source": []
  },
  {
   "cell_type": "code",
   "execution_count": null,
   "id": "aac9c1b6",
   "metadata": {},
   "outputs": [],
   "source": []
  },
  {
   "cell_type": "code",
   "execution_count": null,
   "id": "cb1d926b",
   "metadata": {},
   "outputs": [],
   "source": []
  }
 ],
 "metadata": {
  "kernelspec": {
   "display_name": "Python 3",
   "language": "python",
   "name": "python3"
  },
  "language_info": {
   "codemirror_mode": {
    "name": "ipython",
    "version": 3
   },
   "file_extension": ".py",
   "mimetype": "text/x-python",
   "name": "python",
   "nbconvert_exporter": "python",
   "pygments_lexer": "ipython3",
   "version": "3.8.11"
  }
 },
 "nbformat": 4,
 "nbformat_minor": 5
}